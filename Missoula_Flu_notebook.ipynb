{
 "cells": [
  {
   "cell_type": "markdown",
   "metadata": {},
   "source": [
    "Create a program to run the file on each of our computers. We are starting only with data from Missoula County."
   ]
  },
  {
   "cell_type": "code",
   "execution_count": 1,
   "metadata": {},
   "outputs": [
    {
     "name": "stdout",
     "output_type": "stream",
     "text": [
      "This is Anna\n",
      "This is not Mandub\n",
      "This is not Jake\n",
      "This is not Bill\n"
     ]
    }
   ],
   "source": [
    "\n",
    "from collections import defaultdict\n",
    "import matplotlib.pyplot as plt\n",
    "import numpy as np\n",
    "from scipy.stats import linregress\n",
    "\n",
    "path1 = r\"C:\\Users\\annag\\Documents\\2018-2019\\Spring_2019\\BigDataProjects\\flu-data-linear-regression\\Mslaflu_1.csv\"\n",
    "path2 = \"/home/mandub/Desktop/6th semester/courses/Data Science Projects/data flu/flu-data-linear-regression/Mslaflu_1.csv\"\n",
    "path3 = r\"C:\\Users\\jakeo\\OneDrive\\Documents\\M467\\flu-data-linear-regression\\Mslaflu_1.csv\"\n",
    "path4 = r\"C:\\Users\\willi\\Desktop\\flu projrct\\flu-data-linear-regression\\Mslaflu_1.csv\"\n",
    "\n",
    "\n",
    "\n",
    "pathlist = [path1, path2, path3, path4]\n",
    "names = [\"Anna\", \"Mandub\", \"Jake\", \"Bill\"]\n",
    "for paths in range(len(pathlist)):\n",
    "    try:\n",
    "        with open(pathlist[paths]) as f:#, encoding = \"utf-8\"\n",
    "            print (\"This is\", names[paths])   \n",
    "            path = pathlist[paths]\n",
    "    except:\n",
    "        print(\"This is not\", names[paths])"
   ]
  },
  {
   "cell_type": "markdown",
   "metadata": {},
   "source": [
    "Get the data from the csv file and put it in a dictionary such that\n",
    "keys = week\n",
    "values = [count, county population, and rate]"
   ]
  },
  {
   "cell_type": "code",
   "execution_count": 7,
   "metadata": {},
   "outputs": [],
   "source": [
    "MslaDict = defaultdict(list)\n",
    "with open(path) as f:  #, encoding = \"utf-8\"\n",
    "    next(f)         #skip the header\n",
    "    for string in f:\n",
    "        data = string.split(\",\")\n",
    "        MslaDict[data[0]].append([data[1],data[2],data[3].rstrip()])\n",
    "\n",
    "        \n",
    "## printing keys and values in MslaDict dictionary     \n",
    "#print(MslaDict)\n",
    "\n"
   ]
  },
  {
   "cell_type": "markdown",
   "metadata": {},
   "source": [
    "Create a list of pairs from the data, such that week n+1 is paired with week n flu rate."
   ]
  },
  {
   "cell_type": "code",
   "execution_count": 10,
   "metadata": {},
   "outputs": [],
   "source": [
    "pair = []\n",
    "for key in MslaDict.keys():\n",
    "    if int(key) == 1:\n",
    "        pair.append((0, float(MslaDict[key][0][2])))  #using a dummy zero for the first week\n",
    "    else:\n",
    "        pair.append((int(key)-1,float(MslaDict[key][0][2])))\n",
    "#print(pair)"
   ]
  },
  {
   "cell_type": "markdown",
   "metadata": {},
   "source": [
    "Goal 1: Create a plot of the flu rates over time for Missoula. Create a linear regression line to see if there is a linear realtion to the flu rates over time."
   ]
  },
  {
   "cell_type": "markdown",
   "metadata": {},
   "source": [
    "Try 1: Look at just the last year."
   ]
  },
  {
   "cell_type": "code",
   "execution_count": 19,
   "metadata": {},
   "outputs": [
    {
     "data": {
      "image/png": "[encoded data removed]",
      "text/plain": [
       "<matplotlib.figure.Figure at 0x1664abeb3c8>"
      ]
     },
     "metadata": {},
     "output_type": "display_data"
    }
   ],
   "source": [
    "#Create our training and test data\n",
    "x1=[]     #week number\n",
    "y1=[]     #flu rate\n",
    "for i in range(len(pair)):\n",
    "    x1.append(pair[i][0])\n",
    "    y1.append(pair[i][1])\n",
    "\n",
    "#just looking at this year, so taking the last N weeks\n",
    "N=1     #represents the number of weeks we are predicting\n",
    "xTrain1 = x1[-20:-N-1] # here it will take only 20-N+1 numbers (20 weeks in a year)  \n",
    "yTrain1 = y1[-20:-N-1] # here it will take only 20-N+1 numbers\n",
    "\n",
    "xTest1 = x1[-N:]\n",
    "yTest1 = y1[-N:]\n",
    "\n",
    "\n",
    "slope, intercept, rvalue, pvalue,stderr =linregress(xTrain1,yTrain1)\n",
    "xa = np.linspace(xTrain1[0],xTest1[-1]+3) # create the x-axis out three weeks more than our data to extrapolate\n",
    "ya = intercept + slope*xa                  # linear regression line  \n",
    "plt.plot(np.array(xTrain1),np.array(yTrain1),\"bo\")\n",
    "plt.plot(np.array(xTest1),np.array(yTest1),\"ko\")\n",
    "plt.plot(xa,ya,'-r')\n",
    "plt.title = \"Missoula Flu Rates\"\n",
    "plt.ylabel= \"Flu Rates\"\n",
    "plt.xlabel =  \"Weeks\"\n",
    "plt.show()"
   ]
  },
  {
   "cell_type": "markdown",
   "metadata": {},
   "source": [
    "Try 2: Look at all of the data."
   ]
  },
  {
   "cell_type": "code",
   "execution_count": 20,
   "metadata": {},
   "outputs": [
    {
     "data": {
      "image/png": "[encoded data removed]",
      "text/plain": [
       "<matplotlib.figure.Figure at 0x1664abebb70>"
      ]
     },
     "metadata": {},
     "output_type": "display_data"
    }
   ],
   "source": [
    "x1=[]     #week number\n",
    "y1=[]     #flu rate\n",
    "for i in range(len(pair)):\n",
    "    x1.append(pair[i][0])\n",
    "    y1.append(pair[i][1])\n",
    "\n",
    "#just looking at all of the data, so taking the last N weeks as testing data\n",
    "N=5\n",
    "xTrain1 = x1[:-N-1] # here it will take everything except the N numbers   \n",
    "yTrain1 = y1[:-N-1] # here it will take everything except the N numbers\n",
    "\n",
    "xTest1 = x1[-N:]  #Last N weeks\n",
    "yTest1 = y1[-N:]  #Last N weeks\n",
    "\n",
    "\n",
    "slope, intercept, rvalue, pvalue,stderr =linregress(xTrain1,yTrain1)\n",
    "xa = np.linspace(xTrain1[0],xTest1[-1]+3) # create the x-axis out three weeks more than our data to extrapolate\n",
    "ya = intercept + slope*xa                  # linear regression line  \n",
    "plt.plot(np.array(xTrain1),np.array(yTrain1),\"bo\")\n",
    "plt.plot(np.array(xTest1),np.array(yTest1),\"ko\")\n",
    "plt.plot(xa,ya,'-r')\n",
    "plt.title = \"Missoula Flu Rates\"\n",
    "plt.ylabel= \"Flu Rates\"\n",
    "plt.xlabel =  \"Weeks\"\n",
    "plt.show()"
   ]
  },
  {
   "cell_type": "markdown",
   "metadata": {},
   "source": [
    "Goal 2: Create a scatter plot of the flu rates in realtion to the previous week's rate."
   ]
  },
  {
   "cell_type": "markdown",
   "metadata": {},
   "source": [
    "Try 1: Just this year's data."
   ]
  },
  {
   "cell_type": "code",
   "execution_count": 24,
   "metadata": {},
   "outputs": [
    {
     "data": {
      "image/png": "[encoded data removed]",
      "text/plain": [
       "<matplotlib.figure.Figure at 0x1664a17cbe0>"
      ]
     },
     "metadata": {},
     "output_type": "display_data"
    }
   ],
   "source": [
    "x2=[]    #x2 value is last weeks flu rate\n",
    "y2=[]    #y2 vaalue is this weeks flue rate\n",
    "for i in range(len(pair)-1):\n",
    "    x2.append(pair[i][1])\n",
    "    y2.append(pair[i+1][1])\n",
    "    #print(x2[i],y2[i])\n",
    "    \n",
    "\n",
    "#just looking at this year, so taking the last N weeks for our prediction\n",
    "N=2                    #represents the number of weeks we are predicting\n",
    "xTrain2 = np.array(x2[-20:-N-1]) # here it will take only 20-N+1 numbers (20 weeks in a year)  \n",
    "yTrain2 = np.array(y2[-20:-N-1]) # here it will take only 20-N+1 numbers\n",
    "\n",
    "xTest2 = np.array(x2[-N:])\n",
    "yTest2 = np.array(y2[-N:]) \n",
    "\n",
    "slope, intercept, rvalue, pvalue,stderr =linregress(xTrain2,yTrain2)\n",
    "xb = np.linspace(np.amin(xTrain2),np.amax(xTrain2)) # an array from min of xTrain2 to max of xTrain2 to plot linear regression line\n",
    "yb = intercept + slope*xb                  # regression line using values calulated from above\n",
    "plt.plot(xTrain2, yTrain2,\"bo\")\n",
    "plt.plot(xTest2, yTest2, \"ko\")\n",
    "plt.plot(xb,yb,'-r')\n",
    "plt.title = \"Missoula Flu Rates\"\n",
    "plt.ylabel= \"Flu Rates\"\n",
    "plt.xlabel =  \"Previous Weeks Flu Rates\"\n",
    "plt.show()\n",
    "\n",
    "\n",
    "\n",
    "\n"
   ]
  },
  {
   "cell_type": "markdown",
   "metadata": {},
   "source": [
    "Try 2: Look at all the data."
   ]
  },
  {
   "cell_type": "code",
   "execution_count": 26,
   "metadata": {},
   "outputs": [
    {
     "data": {
      "image/png": "[encoded data removed]",
      "text/plain": [
       "<matplotlib.figure.Figure at 0x1664ab8e358>"
      ]
     },
     "metadata": {},
     "output_type": "display_data"
    }
   ],
   "source": [
    "#Taking the last N weeks for our prediction\n",
    "N=3                    #represents the number of weeks we are predicting\n",
    "xTrain2 = np.array(x2[:-N-1]) # here it will take everything up to the last N weeks\n",
    "yTrain2 = np.array(y2[:-N-1]) # here it will take everything up to the last N weeks\n",
    "\n",
    "xTest2 = np.array(x2[-N:])\n",
    "yTest2 = np.array(y2[-N:]) \n",
    "\n",
    "slope, intercept, rvalue, pvalue,stderr =linregress(xTrain2,yTrain2)\n",
    "xb = np.linspace(np.amin(xTrain2),np.amax(xTrain2)) # an array from min of xTrain2 to max of xTrain2 to plot linear regression line\n",
    "yb = intercept + slope*xb                  # regression line using values calulated from above\n",
    "plt.plot(xTrain2, yTrain2,\"bo\")\n",
    "plt.plot(xTest2, yTest2, \"ko\")\n",
    "plt.plot(xb,yb,'-r')\n",
    "plt.title = \"Missoula Flu Rates\"\n",
    "plt.ylabel= \"Flu Rates\"\n",
    "plt.xlabel =  \"Previous Weeks Flu Rates\"\n",
    "plt.show()"
   ]
  }
 ],
 "metadata": {
  "kernelspec": {
   "display_name": "Python 3",
   "language": "python",
   "name": "python3"
  },
  "language_info": {
   "codemirror_mode": {
    "name": "ipython",
    "version": 3
   },
   "file_extension": ".py",
   "mimetype": "text/x-python",
   "name": "python",
   "nbconvert_exporter": "python",
   "pygments_lexer": "ipython3",
   "version": "3.6.1"
  }
 },
 "nbformat": 4,
 "nbformat_minor": 2
}
